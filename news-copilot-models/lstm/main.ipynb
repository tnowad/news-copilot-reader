{
 "cells": [
  {
   "cell_type": "code",
   "execution_count": 1,
   "id": "8c702313",
   "metadata": {},
   "outputs": [],
   "source": [
    "import json\n",
    "with open('preprocessed_data.json', 'r', encoding='utf-8') as f:\n",
    "    data = json.load(f)"
   ]
  },
  {
   "cell_type": "code",
   "execution_count": 2,
   "id": "bd2ed7bb",
   "metadata": {},
   "outputs": [],
   "source": [
    "words = []\n",
    "types = []\n",
    "for sentence in data:\n",
    "    word_seq, type_seq = zip(*sentence)\n",
    "    words.append(list(word_seq))\n",
    "    types.append(list(type_seq))"
   ]
  },
  {
   "cell_type": "code",
   "execution_count": 3,
   "id": "dff800bf-3520-4ef0-bce1-2cb42737970a",
   "metadata": {},
   "outputs": [
    {
     "name": "stdout",
     "output_type": "stream",
     "text": [
      "[['Cha con', 'đổi', 'nhà', ',', 'thủ tục', 'có', 'rắc rối', '?.'], ['Hướng dẫn', 'chi tiết', 'cách', 'làm', 'visa', 'đi', 'Úc', 'tự túc', 'nhanh', 'nhất', '.'], ['Hà Nội', ':', 'Cụ bà', '97', 'tuổi', 'với', 'hành trình', 'đi', 'đòi', 'nhà', 'qua', 'hai', 'thập kỷ', '.'], [\"'\", 'Mạnh', 'tay', \"'\", 'với', 'nạn', 'cho', 'vay', 'nặng', 'lãi', '.'], ['BIDV', 'vạch', 'rõ', '6', 'hệ lụy khi', 'Viện Kiểm', 'sát', 'đề nghị', 'thu hồi', '2', '.', '550', 'tỷ đồng', '.'], ['Ngành', 'Tư pháp', 'Đà Nẵng', 'cần', 'sẵn sàng', 'nội lực', 'và', 'tâm thế', 'cho', 'năm 2018', 'thật', 'xuất sắc', '!.'], ['Đà Nẵng', ':', 'Dân', 'tố', 'doanh nghiệp', 'lấy', 'đất', 'đã', 'bán xây', 'công trình', '.'], ['Xuân', 'này', 'với', 'ngành', 'Tư pháp', 'Đà Nẵng', '....'], ['Dự án nhà', 'liền kề', 'nhưng', 'lại', 'bán', 'đất nền', '.'], ['Thời hạn', 'thực hiện', 'yêu cầu', 'chứng thực', '.']]\n",
      "[['NOUN', 'VERB', 'NOUN', 'PUNCT', 'NOUN', 'VERB', 'ADJ', 'PUNCT'], ['VERB', 'ADJ', 'NOUN', 'VERB', 'NOUN', 'VERB', 'PROPN', 'VERB', 'ADJ', 'ADV', 'PUNCT'], ['PROPN', 'PUNCT', 'NOUN', 'NUM', 'NOUN', 'ADP', 'NOUN', 'VERB', 'VERB', 'NOUN', 'ADP', 'NUM', 'NOUN', 'PUNCT'], ['PUNCT', 'PROPN', 'VERB', 'ADJ', 'ADP', 'NOUN', 'VERB', 'VERB', 'ADJ', 'NOUN', 'PUNCT'], ['NOUN', 'VERB', 'ADJ', 'VERB', 'NOUN', 'PROPN', 'NOUN', 'VERB', 'VERB', 'NUM', 'PUNCT', 'NUM', 'NOUN', 'PUNCT'], ['NOUN', 'NOUN', 'PROPN', 'VERB', 'ADJ', 'NOUN', 'CCONJ', 'NOUN', 'ADP', 'NOUN', 'ADV', 'ADJ', 'PUNCT'], ['PROPN', 'PUNCT', 'PROPN', 'VERB', 'NOUN', 'VERB', 'NOUN', 'ADV', 'VERB', 'NOUN', 'PUNCT'], ['NOUN', 'PRON', 'ADP', 'NOUN', 'NOUN', 'PROPN', 'PUNCT'], ['NOUN', 'ADJ', 'SCONJ', 'ADV', 'VERB', 'NOUN', 'PUNCT'], ['NOUN', 'VERB', 'NOUN', 'VERB', 'PUNCT']]\n"
     ]
    }
   ],
   "source": [
    "print(words[:10])\n",
    "print(types[:10])"
   ]
  },
  {
   "cell_type": "code",
   "execution_count": 4,
   "id": "e62b80c6-c1f3-4515-84c7-9eccf9877995",
   "metadata": {},
   "outputs": [],
   "source": [
    "# Create word_to_index mapping\n",
    "word_to_index = {}\n",
    "index = 1  # Start index from 1, leaving 0 for padding\n",
    "for sentence in words:\n",
    "    for word in sentence:\n",
    "        if word not in word_to_index:\n",
    "            word_to_index[word] = index\n",
    "            index += 1\n",
    "\n",
    "# Add special tokens for padding and unknown words\n",
    "word_to_index['<PAD>'] = 0\n",
    "word_to_index['<UNK>'] = index\n",
    "\n",
    "# You can optionally reverse the dictionary for index_to_word mapping\n",
    "index_to_word = {index: word for word, index in word_to_index.items()}\n",
    "\n",
    "# Create type_to_index mapping\n",
    "type_to_index = {}\n",
    "index = 0  # Start index from 0\n",
    "for sentence in types:\n",
    "    for type in sentence:\n",
    "        if type not in type_to_index:\n",
    "            type_to_index[type] = index\n",
    "            index += 1\n",
    "\n",
    "# You can optionally reverse the dictionary for index_to_type mapping\n",
    "index_to_type = {index: type for type, index in type_to_index.items()}\n"
   ]
  },
  {
   "cell_type": "code",
   "execution_count": 5,
   "id": "f5857d82-cd7c-4806-979c-09074d097685",
   "metadata": {},
   "outputs": [],
   "source": [
    "vocab_size = len(word_to_index)\n",
    "max_length = 50\n",
    "\n",
    "# Convert words and types to numerical sequences\n",
    "word_sequences = [[word_to_index[word] for word in sentence] for sentence in words]\n",
    "type_sequences = [[type_to_index[type] for type in sentence] for sentence in types]\n"
   ]
  },
  {
   "cell_type": "code",
   "execution_count": 6,
   "id": "895a64ea-1311-4a9b-98c2-a8dd9e112b98",
   "metadata": {},
   "outputs": [],
   "source": [
    "X = []\n",
    "Y = []\n",
    "for word_seq, type_seq in zip(word_sequences, type_sequences):\n",
    "    for i in range(1, len(word_seq)):\n",
    "        X.append(word_seq[:i] + type_seq[:i])\n",
    "        Y.append(word_seq[i])"
   ]
  },
  {
   "cell_type": "code",
   "execution_count": 7,
   "id": "0c1f75d0-3dca-4e19-956f-a5f8b41d3947",
   "metadata": {},
   "outputs": [
    {
     "name": "stderr",
     "output_type": "stream",
     "text": [
      "2024-04-11 21:37:21.971400: I tensorflow/core/platform/cpu_feature_guard.cc:210] This TensorFlow binary is optimized to use available CPU instructions in performance-critical operations.\n",
      "To enable the following instructions: AVX2 FMA, in other operations, rebuild TensorFlow with the appropriate compiler flags.\n",
      "2024-04-11 21:37:23.064373: W tensorflow/compiler/tf2tensorrt/utils/py_utils.cc:38] TF-TRT Warning: Could not find TensorRT\n"
     ]
    }
   ],
   "source": [
    "from keras.preprocessing.sequence import pad_sequences\n",
    "from keras.utils import to_categorical\n",
    "\n",
    "X_padded = pad_sequences(X, maxlen=max_length, padding='pre')\n",
    "Y_categorical = to_categorical(Y, num_classes=vocab_size)"
   ]
  },
  {
   "cell_type": "code",
   "execution_count": 8,
   "id": "148bb7a6-15aa-4f0d-b4cc-8f4c9e6a2980",
   "metadata": {},
   "outputs": [],
   "source": [
    "from keras.models import Sequential\n",
    "from keras.layers import LSTM, Dense, Embedding\n",
    "\n",
    "model = Sequential()\n",
    "model.add(Embedding(vocab_size, 100))\n",
    "model.add(LSTM(100))\n",
    "model.add(Dense(vocab_size, activation='softmax'))"
   ]
  },
  {
   "cell_type": "code",
   "execution_count": 9,
   "id": "c2accf3d-3b5c-4f3b-9664-bd02f9b3f747",
   "metadata": {},
   "outputs": [],
   "source": [
    "model.compile(loss='categorical_crossentropy', optimizer='adam', metrics=['accuracy'])"
   ]
  },
  {
   "cell_type": "code",
   "execution_count": 38,
   "id": "42123430-f992-4389-8857-11019480a369",
   "metadata": {},
   "outputs": [
    {
     "name": "stderr",
     "output_type": "stream",
     "text": [
      "2024-04-12 00:41:20.279063: W external/local_tsl/tsl/framework/cpu_allocator_impl.cc:83] Allocation of 5563781760 exceeds 10% of free system memory.\n"
     ]
    },
    {
     "name": "stdout",
     "output_type": "stream",
     "text": [
      "\u001b[1m2506/2507\u001b[0m \u001b[32m━━━━━━━━━━━━━━━━━━━\u001b[0m\u001b[37m━\u001b[0m \u001b[1m0s\u001b[0m 40ms/step - accuracy: 0.7633 - loss: 1.1858"
     ]
    },
    {
     "name": "stderr",
     "output_type": "stream",
     "text": [
      "2024-04-12 00:43:31.868161: W external/local_tsl/tsl/framework/cpu_allocator_impl.cc:83] Allocation of 1391014800 exceeds 10% of free system memory.\n"
     ]
    },
    {
     "name": "stdout",
     "output_type": "stream",
     "text": [
      "\u001b[1m2507/2507\u001b[0m \u001b[32m━━━━━━━━━━━━━━━━━━━━\u001b[0m\u001b[37m\u001b[0m \u001b[1m133s\u001b[0m 53ms/step - accuracy: 0.7632 - loss: 1.1859 - val_accuracy: 0.1088 - val_loss: 12.0352\n"
     ]
    },
    {
     "data": {
      "text/plain": [
       "<keras.src.callbacks.history.History at 0x7f242e83ad10>"
      ]
     },
     "execution_count": 38,
     "metadata": {},
     "output_type": "execute_result"
    }
   ],
   "source": [
    "model.fit(X_padded, Y_categorical, epochs=1, batch_size=32, validation_split=0.2)"
   ]
  },
  {
   "cell_type": "code",
   "execution_count": 45,
   "id": "845f176f-6e84-4fb4-bc4d-4b918a740562",
   "metadata": {},
   "outputs": [],
   "source": [
    "import numpy as np\n",
    "def generate_text(seed_sequence, length=10):\n",
    "    for _ in range(length):\n",
    "        encoded = [word_to_index.get(word, word_to_index['<UNK>']) for word in seed_sequence.split()]\n",
    "        encoded = pad_sequences([encoded], maxlen=max_length, padding='pre')\n",
    "        predicted_probabilities = model.predict(encoded, verbose=0)\n",
    "        predicted_index = np.argmax(predicted_probabilities)\n",
    "        predicted_word = index_to_word.get(predicted_index, '<UNK>')\n",
    "        seed_sequence += ' ' + predicted_word\n",
    "    return seed_sequence"
   ]
  },
  {
   "cell_type": "code",
   "execution_count": 53,
   "id": "c318c476-859f-4f72-9be2-b826f38f9c06",
   "metadata": {},
   "outputs": [
    {
     "name": "stdout",
     "output_type": "stream",
     "text": [
      "Generated text: Tích cực việc ' ( (\n"
     ]
    }
   ],
   "source": [
    "seed_sequence = 'Tích cực việc'\n",
    "generated_text = generate_text(seed_sequence, 3)\n",
    "print(\"Generated text:\", generated_text)"
   ]
  },
  {
   "cell_type": "code",
   "execution_count": 54,
   "id": "1999b527-2e49-46aa-85d6-ad9cc7e2ac44",
   "metadata": {},
   "outputs": [
    {
     "data": {
      "text/html": [
       "<pre style=\"white-space:pre;overflow-x:auto;line-height:normal;font-family:Menlo,'DejaVu Sans Mono',consolas,'Courier New',monospace\"><span style=\"font-weight: bold\">Model: \"sequential\"</span>\n",
       "</pre>\n"
      ],
      "text/plain": [
       "\u001b[1mModel: \"sequential\"\u001b[0m\n"
      ]
     },
     "metadata": {},
     "output_type": "display_data"
    },
    {
     "data": {
      "text/html": [
       "<pre style=\"white-space:pre;overflow-x:auto;line-height:normal;font-family:Menlo,'DejaVu Sans Mono',consolas,'Courier New',monospace\">┏━━━━━━━━━━━━━━━━━━━━━━━━━━━━━━━━━┳━━━━━━━━━━━━━━━━━━━━━━━━┳━━━━━━━━━━━━━━━┓\n",
       "┃<span style=\"font-weight: bold\"> Layer (type)                    </span>┃<span style=\"font-weight: bold\"> Output Shape           </span>┃<span style=\"font-weight: bold\">       Param # </span>┃\n",
       "┡━━━━━━━━━━━━━━━━━━━━━━━━━━━━━━━━━╇━━━━━━━━━━━━━━━━━━━━━━━━╇━━━━━━━━━━━━━━━┩\n",
       "│ embedding (<span style=\"color: #0087ff; text-decoration-color: #0087ff\">Embedding</span>)           │ (<span style=\"color: #00d7ff; text-decoration-color: #00d7ff\">None</span>, <span style=\"color: #00af00; text-decoration-color: #00af00\">50</span>, <span style=\"color: #00af00; text-decoration-color: #00af00\">100</span>)        │     <span style=\"color: #00af00; text-decoration-color: #00af00\">1,734,000</span> │\n",
       "├─────────────────────────────────┼────────────────────────┼───────────────┤\n",
       "│ lstm (<span style=\"color: #0087ff; text-decoration-color: #0087ff\">LSTM</span>)                     │ (<span style=\"color: #00d7ff; text-decoration-color: #00d7ff\">None</span>, <span style=\"color: #00af00; text-decoration-color: #00af00\">50</span>)             │        <span style=\"color: #00af00; text-decoration-color: #00af00\">30,200</span> │\n",
       "├─────────────────────────────────┼────────────────────────┼───────────────┤\n",
       "│ dense (<span style=\"color: #0087ff; text-decoration-color: #0087ff\">Dense</span>)                   │ (<span style=\"color: #00d7ff; text-decoration-color: #00d7ff\">None</span>, <span style=\"color: #00af00; text-decoration-color: #00af00\">17340</span>)          │       <span style=\"color: #00af00; text-decoration-color: #00af00\">884,340</span> │\n",
       "└─────────────────────────────────┴────────────────────────┴───────────────┘\n",
       "</pre>\n"
      ],
      "text/plain": [
       "┏━━━━━━━━━━━━━━━━━━━━━━━━━━━━━━━━━┳━━━━━━━━━━━━━━━━━━━━━━━━┳━━━━━━━━━━━━━━━┓\n",
       "┃\u001b[1m \u001b[0m\u001b[1mLayer (type)                   \u001b[0m\u001b[1m \u001b[0m┃\u001b[1m \u001b[0m\u001b[1mOutput Shape          \u001b[0m\u001b[1m \u001b[0m┃\u001b[1m \u001b[0m\u001b[1m      Param #\u001b[0m\u001b[1m \u001b[0m┃\n",
       "┡━━━━━━━━━━━━━━━━━━━━━━━━━━━━━━━━━╇━━━━━━━━━━━━━━━━━━━━━━━━╇━━━━━━━━━━━━━━━┩\n",
       "│ embedding (\u001b[38;5;33mEmbedding\u001b[0m)           │ (\u001b[38;5;45mNone\u001b[0m, \u001b[38;5;34m50\u001b[0m, \u001b[38;5;34m100\u001b[0m)        │     \u001b[38;5;34m1,734,000\u001b[0m │\n",
       "├─────────────────────────────────┼────────────────────────┼───────────────┤\n",
       "│ lstm (\u001b[38;5;33mLSTM\u001b[0m)                     │ (\u001b[38;5;45mNone\u001b[0m, \u001b[38;5;34m50\u001b[0m)             │        \u001b[38;5;34m30,200\u001b[0m │\n",
       "├─────────────────────────────────┼────────────────────────┼───────────────┤\n",
       "│ dense (\u001b[38;5;33mDense\u001b[0m)                   │ (\u001b[38;5;45mNone\u001b[0m, \u001b[38;5;34m17340\u001b[0m)          │       \u001b[38;5;34m884,340\u001b[0m │\n",
       "└─────────────────────────────────┴────────────────────────┴───────────────┘\n"
      ]
     },
     "metadata": {},
     "output_type": "display_data"
    },
    {
     "data": {
      "text/html": [
       "<pre style=\"white-space:pre;overflow-x:auto;line-height:normal;font-family:Menlo,'DejaVu Sans Mono',consolas,'Courier New',monospace\"><span style=\"font-weight: bold\"> Total params: </span><span style=\"color: #00af00; text-decoration-color: #00af00\">7,945,622</span> (30.31 MB)\n",
       "</pre>\n"
      ],
      "text/plain": [
       "\u001b[1m Total params: \u001b[0m\u001b[38;5;34m7,945,622\u001b[0m (30.31 MB)\n"
      ]
     },
     "metadata": {},
     "output_type": "display_data"
    },
    {
     "data": {
      "text/html": [
       "<pre style=\"white-space:pre;overflow-x:auto;line-height:normal;font-family:Menlo,'DejaVu Sans Mono',consolas,'Courier New',monospace\"><span style=\"font-weight: bold\"> Trainable params: </span><span style=\"color: #00af00; text-decoration-color: #00af00\">2,648,540</span> (10.10 MB)\n",
       "</pre>\n"
      ],
      "text/plain": [
       "\u001b[1m Trainable params: \u001b[0m\u001b[38;5;34m2,648,540\u001b[0m (10.10 MB)\n"
      ]
     },
     "metadata": {},
     "output_type": "display_data"
    },
    {
     "data": {
      "text/html": [
       "<pre style=\"white-space:pre;overflow-x:auto;line-height:normal;font-family:Menlo,'DejaVu Sans Mono',consolas,'Courier New',monospace\"><span style=\"font-weight: bold\"> Non-trainable params: </span><span style=\"color: #00af00; text-decoration-color: #00af00\">0</span> (0.00 B)\n",
       "</pre>\n"
      ],
      "text/plain": [
       "\u001b[1m Non-trainable params: \u001b[0m\u001b[38;5;34m0\u001b[0m (0.00 B)\n"
      ]
     },
     "metadata": {},
     "output_type": "display_data"
    },
    {
     "data": {
      "text/html": [
       "<pre style=\"white-space:pre;overflow-x:auto;line-height:normal;font-family:Menlo,'DejaVu Sans Mono',consolas,'Courier New',monospace\"><span style=\"font-weight: bold\"> Optimizer params: </span><span style=\"color: #00af00; text-decoration-color: #00af00\">5,297,082</span> (20.21 MB)\n",
       "</pre>\n"
      ],
      "text/plain": [
       "\u001b[1m Optimizer params: \u001b[0m\u001b[38;5;34m5,297,082\u001b[0m (20.21 MB)\n"
      ]
     },
     "metadata": {},
     "output_type": "display_data"
    }
   ],
   "source": [
    "model.summary()"
   ]
  },
  {
   "cell_type": "code",
   "execution_count": null,
   "id": "2aa68d4b-b04f-40b0-889c-6647a8ebfd48",
   "metadata": {},
   "outputs": [],
   "source": []
  }
 ],
 "metadata": {
  "kernelspec": {
   "display_name": "Python 3 (ipykernel)",
   "language": "python",
   "name": "python3"
  },
  "language_info": {
   "codemirror_mode": {
    "name": "ipython",
    "version": 3
   },
   "file_extension": ".py",
   "mimetype": "text/x-python",
   "name": "python",
   "nbconvert_exporter": "python",
   "pygments_lexer": "ipython3",
   "version": "3.11.8"
  }
 },
 "nbformat": 4,
 "nbformat_minor": 5
}
