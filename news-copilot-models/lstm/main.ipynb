{
 "cells": [
  {
   "cell_type": "code",
   "execution_count": 1,
   "id": "8c702313",
   "metadata": {},
   "outputs": [],
   "source": [
    "import json\n",
    "with open('preprocessed_data.json', 'r', encoding='utf-8') as f:\n",
    "    data = json.load(f)"
   ]
  },
  {
   "cell_type": "code",
   "execution_count": 2,
   "id": "bd2ed7bb",
   "metadata": {},
   "outputs": [],
   "source": [
    "words = []\n",
    "types = []\n",
    "for sentence in data:\n",
    "    word_seq, type_seq = zip(*sentence)\n",
    "    words.append(list(word_seq))\n",
    "    types.append(list(type_seq))"
   ]
  },
  {
   "cell_type": "code",
   "execution_count": 3,
   "id": "dff800bf-3520-4ef0-bce1-2cb42737970a",
   "metadata": {},
   "outputs": [
    {
     "name": "stdout",
     "output_type": "stream",
     "text": [
      "[['Cha con', 'đổi', 'nhà', ',', 'thủ tục', 'có', 'rắc rối', '?.'], ['Hướng dẫn', 'chi tiết', 'cách', 'làm', 'visa', 'đi', 'Úc', 'tự túc', 'nhanh', 'nhất', '.'], ['Hà Nội', ':', 'Cụ bà', '97', 'tuổi', 'với', 'hành trình', 'đi', 'đòi', 'nhà', 'qua', 'hai', 'thập kỷ', '.'], [\"'\", 'Mạnh', 'tay', \"'\", 'với', 'nạn', 'cho', 'vay', 'nặng', 'lãi', '.'], ['BIDV', 'vạch', 'rõ', '6', 'hệ lụy khi', 'Viện Kiểm', 'sát', 'đề nghị', 'thu hồi', '2', '.', '550', 'tỷ đồng', '.'], ['Ngành', 'Tư pháp', 'Đà Nẵng', 'cần', 'sẵn sàng', 'nội lực', 'và', 'tâm thế', 'cho', 'năm 2018', 'thật', 'xuất sắc', '!.'], ['Đà Nẵng', ':', 'Dân', 'tố', 'doanh nghiệp', 'lấy', 'đất', 'đã', 'bán xây', 'công trình', '.'], ['Xuân', 'này', 'với', 'ngành', 'Tư pháp', 'Đà Nẵng', '....'], ['Dự án nhà', 'liền kề', 'nhưng', 'lại', 'bán', 'đất nền', '.'], ['Thời hạn', 'thực hiện', 'yêu cầu', 'chứng thực', '.']]\n",
      "[['NOUN', 'VERB', 'NOUN', 'PUNCT', 'NOUN', 'VERB', 'ADJ', 'PUNCT'], ['VERB', 'ADJ', 'NOUN', 'VERB', 'NOUN', 'VERB', 'PROPN', 'VERB', 'ADJ', 'ADV', 'PUNCT'], ['PROPN', 'PUNCT', 'NOUN', 'NUM', 'NOUN', 'ADP', 'NOUN', 'VERB', 'VERB', 'NOUN', 'ADP', 'NUM', 'NOUN', 'PUNCT'], ['PUNCT', 'PROPN', 'VERB', 'ADJ', 'ADP', 'NOUN', 'VERB', 'VERB', 'ADJ', 'NOUN', 'PUNCT'], ['NOUN', 'VERB', 'ADJ', 'VERB', 'NOUN', 'PROPN', 'NOUN', 'VERB', 'VERB', 'NUM', 'PUNCT', 'NUM', 'NOUN', 'PUNCT'], ['NOUN', 'NOUN', 'PROPN', 'VERB', 'ADJ', 'NOUN', 'CCONJ', 'NOUN', 'ADP', 'NOUN', 'ADV', 'ADJ', 'PUNCT'], ['PROPN', 'PUNCT', 'PROPN', 'VERB', 'NOUN', 'VERB', 'NOUN', 'ADV', 'VERB', 'NOUN', 'PUNCT'], ['NOUN', 'PRON', 'ADP', 'NOUN', 'NOUN', 'PROPN', 'PUNCT'], ['NOUN', 'ADJ', 'SCONJ', 'ADV', 'VERB', 'NOUN', 'PUNCT'], ['NOUN', 'VERB', 'NOUN', 'VERB', 'PUNCT']]\n"
     ]
    }
   ],
   "source": [
    "print(words[:10])\n",
    "print(types[:10])"
   ]
  },
  {
   "cell_type": "code",
   "execution_count": 4,
   "id": "e62b80c6-c1f3-4515-84c7-9eccf9877995",
   "metadata": {},
   "outputs": [],
   "source": [
    "# Create word_to_index mapping\n",
    "word_to_index = {}\n",
    "index = 1  # Start index from 1, leaving 0 for padding\n",
    "for sentence in words:\n",
    "    for word in sentence:\n",
    "        if word not in word_to_index:\n",
    "            word_to_index[word] = index\n",
    "            index += 1\n",
    "\n",
    "# Add special tokens for padding and unknown words\n",
    "word_to_index['<PAD>'] = 0\n",
    "word_to_index['<UNK>'] = index\n",
    "\n",
    "# You can optionally reverse the dictionary for index_to_word mapping\n",
    "index_to_word = {index: word for word, index in word_to_index.items()}\n",
    "\n",
    "# Create type_to_index mapping\n",
    "type_to_index = {}\n",
    "index = 0  # Start index from 0\n",
    "for sentence in types:\n",
    "    for type in sentence:\n",
    "        if type not in type_to_index:\n",
    "            type_to_index[type] = index\n",
    "            index += 1\n",
    "\n",
    "# You can optionally reverse the dictionary for index_to_type mapping\n",
    "index_to_type = {index: type for type, index in type_to_index.items()}\n"
   ]
  },
  {
   "cell_type": "code",
   "execution_count": 5,
   "id": "f5857d82-cd7c-4806-979c-09074d097685",
   "metadata": {},
   "outputs": [],
   "source": [
    "vocab_size = len(word_to_index)\n",
    "max_length = 50\n",
    "\n",
    "# Convert words and types to numerical sequences\n",
    "word_sequences = [[word_to_index[word] for word in sentence] for sentence in words]\n",
    "type_sequences = [[type_to_index[type] for type in sentence] for sentence in types]\n"
   ]
  },
  {
   "cell_type": "code",
   "execution_count": 6,
   "id": "895a64ea-1311-4a9b-98c2-a8dd9e112b98",
   "metadata": {},
   "outputs": [],
   "source": [
    "X = []\n",
    "Y = []\n",
    "for word_seq, type_seq in zip(word_sequences, type_sequences):\n",
    "    for i in range(1, len(word_seq)):\n",
    "        X.append(word_seq[:i] + type_seq[:i])\n",
    "        Y.append(word_seq[i])"
   ]
  },
  {
   "cell_type": "code",
   "execution_count": 7,
   "id": "0c1f75d0-3dca-4e19-956f-a5f8b41d3947",
   "metadata": {},
   "outputs": [
    {
     "name": "stderr",
     "output_type": "stream",
     "text": [
      "2024-04-11 21:37:21.971400: I tensorflow/core/platform/cpu_feature_guard.cc:210] This TensorFlow binary is optimized to use available CPU instructions in performance-critical operations.\n",
      "To enable the following instructions: AVX2 FMA, in other operations, rebuild TensorFlow with the appropriate compiler flags.\n",
      "2024-04-11 21:37:23.064373: W tensorflow/compiler/tf2tensorrt/utils/py_utils.cc:38] TF-TRT Warning: Could not find TensorRT\n"
     ]
    }
   ],
   "source": [
    "from keras.preprocessing.sequence import pad_sequences\n",
    "from keras.utils import to_categorical\n",
    "\n",
    "X_padded = pad_sequences(X, maxlen=max_length, padding='pre')\n",
    "Y_categorical = to_categorical(Y, num_classes=vocab_size)"
   ]
  },
  {
   "cell_type": "code",
   "execution_count": 8,
   "id": "148bb7a6-15aa-4f0d-b4cc-8f4c9e6a2980",
   "metadata": {},
   "outputs": [],
   "source": [
    "from keras.models import Sequential\n",
    "from keras.layers import LSTM, Dense, Embedding\n",
    "\n",
    "model = Sequential()\n",
    "model.add(Embedding(vocab_size, 100)) #  input_length=max_length\n",
    "model.add(LSTM(50))\n",
    "model.add(Dense(vocab_size, activation='softmax'))"
   ]
  },
  {
   "cell_type": "code",
   "execution_count": 9,
   "id": "c2accf3d-3b5c-4f3b-9664-bd02f9b3f747",
   "metadata": {},
   "outputs": [],
   "source": [
    "model.compile(loss='categorical_crossentropy', optimizer='adam', metrics=['accuracy'])"
   ]
  },
  {
   "cell_type": "code",
   "execution_count": null,
   "id": "42123430-f992-4389-8857-11019480a369",
   "metadata": {},
   "outputs": [
    {
     "name": "stderr",
     "output_type": "stream",
     "text": [
      "2024-04-11 21:38:00.018096: W external/local_tsl/tsl/framework/cpu_allocator_impl.cc:83] Allocation of 5563781760 exceeds 10% of free system memory.\n"
     ]
    },
    {
     "name": "stdout",
     "output_type": "stream",
     "text": [
      "Epoch 1/50\n",
      "\u001b[1m5014/5014\u001b[0m \u001b[32m━━━━━━━━━━━━━━━━━━━━\u001b[0m\u001b[37m\u001b[0m \u001b[1m0s\u001b[0m 38ms/step - accuracy: 0.0997 - loss: 7.8763"
     ]
    },
    {
     "name": "stderr",
     "output_type": "stream",
     "text": [
      "2024-04-11 21:42:05.237057: W external/local_tsl/tsl/framework/cpu_allocator_impl.cc:83] Allocation of 1391014800 exceeds 10% of free system memory.\n"
     ]
    },
    {
     "name": "stdout",
     "output_type": "stream",
     "text": [
      "\u001b[1m5014/5014\u001b[0m \u001b[32m━━━━━━━━━━━━━━━━━━━━\u001b[0m\u001b[37m\u001b[0m \u001b[1m222s\u001b[0m 44ms/step - accuracy: 0.0997 - loss: 7.8763 - val_accuracy: 0.1179 - val_loss: 7.5720\n",
      "Epoch 2/50\n",
      "\u001b[1m5014/5014\u001b[0m \u001b[32m━━━━━━━━━━━━━━━━━━━━\u001b[0m\u001b[37m\u001b[0m \u001b[1m197s\u001b[0m 39ms/step - accuracy: 0.1234 - loss: 6.9495 - val_accuracy: 0.1302 - val_loss: 7.5487\n",
      "Epoch 3/50\n",
      "\u001b[1m5014/5014\u001b[0m \u001b[32m━━━━━━━━━━━━━━━━━━━━\u001b[0m\u001b[37m\u001b[0m \u001b[1m200s\u001b[0m 40ms/step - accuracy: 0.1405 - loss: 6.4231 - val_accuracy: 0.1346 - val_loss: 7.6580\n",
      "Epoch 4/50\n",
      "\u001b[1m5014/5014\u001b[0m \u001b[32m━━━━━━━━━━━━━━━━━━━━\u001b[0m\u001b[37m\u001b[0m \u001b[1m197s\u001b[0m 39ms/step - accuracy: 0.1598 - loss: 5.9693 - val_accuracy: 0.1409 - val_loss: 7.7613\n",
      "Epoch 5/50\n",
      "\u001b[1m2962/5014\u001b[0m \u001b[32m━━━━━━━━━━━\u001b[0m\u001b[37m━━━━━━━━━\u001b[0m \u001b[1m1:17\u001b[0m 38ms/step - accuracy: 0.1793 - loss: 5.5392"
     ]
    }
   ],
   "source": [
    "model.fit(X_padded, Y_categorical, epochs=50, batch_size=16, validation_split=0.2)"
   ]
  },
  {
   "cell_type": "code",
   "execution_count": null,
   "id": "845f176f-6e84-4fb4-bc4d-4b918a740562",
   "metadata": {},
   "outputs": [],
   "source": [
    "def generate_text(seed_sequence, length=10):\n",
    "    for _ in range(length):\n",
    "        encoded = [word_to_index[word] for word in seed_sequence]\n",
    "        encoded = pad_sequences([encoded], maxlen=max_length, padding='pre')\n",
    "        predicted_index = model.predict_classes(encoded, verbose=0)\n",
    "        predicted_word = index_to_word[predicted_index[0]]\n",
    "        seed_sequence += ' ' + predicted_word\n",
    "    return seed_sequence"
   ]
  },
  {
   "cell_type": "code",
   "execution_count": null,
   "id": "c318c476-859f-4f72-9be2-b826f38f9c06",
   "metadata": {},
   "outputs": [],
   "source": [
    "seed_sequence = 'Hướng dẫn chi tiết cách làm'\n",
    "generated_text = generate_text(seed_sequence)\n",
    "print(\"Generated text:\", generated_text)"
   ]
  },
  {
   "cell_type": "code",
   "execution_count": null,
   "id": "364beb8d-58db-4e01-b415-3e50e0a79752",
   "metadata": {},
   "outputs": [],
   "source": []
  }
 ],
 "metadata": {
  "kernelspec": {
   "display_name": "Python 3 (ipykernel)",
   "language": "python",
   "name": "python3"
  },
  "language_info": {
   "codemirror_mode": {
    "name": "ipython",
    "version": 3
   },
   "file_extension": ".py",
   "mimetype": "text/x-python",
   "name": "python",
   "nbconvert_exporter": "python",
   "pygments_lexer": "ipython3",
   "version": "3.11.8"
  }
 },
 "nbformat": 4,
 "nbformat_minor": 5
}
