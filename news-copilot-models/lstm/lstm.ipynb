{
 "cells": [
  {
   "cell_type": "code",
   "execution_count": 1,
   "id": "451bf45b-6edf-46ec-a300-d2b513fa93c3",
   "metadata": {},
   "outputs": [
    {
     "name": "stdout",
     "output_type": "stream",
     "text": [
      "Requirement already satisfied: torch in ./.venv/lib/python3.11/site-packages (2.2.2)\n",
      "Requirement already satisfied: filelock in ./.venv/lib/python3.11/site-packages (from torch) (3.13.4)\n",
      "Requirement already satisfied: typing-extensions>=4.8.0 in ./.venv/lib/python3.11/site-packages (from torch) (4.11.0)\n",
      "Requirement already satisfied: sympy in ./.venv/lib/python3.11/site-packages (from torch) (1.12)\n",
      "Requirement already satisfied: networkx in ./.venv/lib/python3.11/site-packages (from torch) (3.3)\n",
      "Requirement already satisfied: jinja2 in ./.venv/lib/python3.11/site-packages (from torch) (3.1.3)\n",
      "Requirement already satisfied: fsspec in ./.venv/lib/python3.11/site-packages (from torch) (2024.3.1)\n",
      "Requirement already satisfied: nvidia-cuda-nvrtc-cu12==12.1.105 in ./.venv/lib/python3.11/site-packages (from torch) (12.1.105)\n",
      "Requirement already satisfied: nvidia-cuda-runtime-cu12==12.1.105 in ./.venv/lib/python3.11/site-packages (from torch) (12.1.105)\n",
      "Requirement already satisfied: nvidia-cuda-cupti-cu12==12.1.105 in ./.venv/lib/python3.11/site-packages (from torch) (12.1.105)\n",
      "Requirement already satisfied: nvidia-cudnn-cu12==8.9.2.26 in ./.venv/lib/python3.11/site-packages (from torch) (8.9.2.26)\n",
      "Requirement already satisfied: nvidia-cublas-cu12==12.1.3.1 in ./.venv/lib/python3.11/site-packages (from torch) (12.1.3.1)\n",
      "Requirement already satisfied: nvidia-cufft-cu12==11.0.2.54 in ./.venv/lib/python3.11/site-packages (from torch) (11.0.2.54)\n",
      "Requirement already satisfied: nvidia-curand-cu12==10.3.2.106 in ./.venv/lib/python3.11/site-packages (from torch) (10.3.2.106)\n",
      "Requirement already satisfied: nvidia-cusolver-cu12==11.4.5.107 in ./.venv/lib/python3.11/site-packages (from torch) (11.4.5.107)\n",
      "Requirement already satisfied: nvidia-cusparse-cu12==12.1.0.106 in ./.venv/lib/python3.11/site-packages (from torch) (12.1.0.106)\n",
      "Requirement already satisfied: nvidia-nccl-cu12==2.19.3 in ./.venv/lib/python3.11/site-packages (from torch) (2.19.3)\n",
      "Requirement already satisfied: nvidia-nvtx-cu12==12.1.105 in ./.venv/lib/python3.11/site-packages (from torch) (12.1.105)\n",
      "Requirement already satisfied: triton==2.2.0 in ./.venv/lib/python3.11/site-packages (from torch) (2.2.0)\n",
      "Requirement already satisfied: nvidia-nvjitlink-cu12 in ./.venv/lib/python3.11/site-packages (from nvidia-cusolver-cu12==11.4.5.107->torch) (12.4.127)\n",
      "Requirement already satisfied: MarkupSafe>=2.0 in ./.venv/lib/python3.11/site-packages (from jinja2->torch) (2.1.5)\n",
      "Requirement already satisfied: mpmath>=0.19 in ./.venv/lib/python3.11/site-packages (from sympy->torch) (1.3.0)\n"
     ]
    }
   ],
   "source": [
    "!pip install torch"
   ]
  },
  {
   "cell_type": "code",
   "execution_count": 2,
   "id": "ff71d261-022f-4bef-adba-6a75d6f726b3",
   "metadata": {},
   "outputs": [],
   "source": [
    "import numpy as np\n",
    "import torch\n",
    "import torch.nn as nn\n",
    "import torch.optim as optim\n",
    "from torch.utils.data import Dataset, DataLoader"
   ]
  },
  {
   "cell_type": "code",
   "execution_count": 3,
   "id": "3575717c-5aa6-443c-a7fc-57ead02957af",
   "metadata": {},
   "outputs": [],
   "source": [
    "with open('corpus.txt', 'r') as file:\n",
    "    data = file.read()"
   ]
  },
  {
   "cell_type": "code",
   "execution_count": 4,
   "id": "6f1600aa-0173-453c-ba3d-640441d27af5",
   "metadata": {},
   "outputs": [],
   "source": [
    "words = data.split()\n",
    "word_to_ix = {word: i for i, word in enumerate(set(words))}\n",
    "ix_to_word = {i: word for word, i in word_to_ix.items()}\n",
    "vocab_size = len(word_to_ix)"
   ]
  },
  {
   "cell_type": "code",
   "execution_count": 5,
   "id": "cea06f4a-7ac0-48e8-a78f-d22a331d69e2",
   "metadata": {},
   "outputs": [],
   "source": [
    "data_idx = [word_to_ix[word] for word in words]"
   ]
  },
  {
   "cell_type": "code",
   "execution_count": 6,
   "id": "b526814b-e485-4403-b446-58c1bb2ecfef",
   "metadata": {},
   "outputs": [],
   "source": [
    "seq_length = 10\n",
    "sequences = []\n",
    "for i in range(len(data_idx) - seq_length):\n",
    "    sequences.append(data_idx[i:i+seq_length+1])"
   ]
  },
  {
   "cell_type": "code",
   "execution_count": 7,
   "id": "dc9801a6-ebcc-4f7a-9399-c873f33d62a0",
   "metadata": {},
   "outputs": [],
   "source": [
    "sequences = np.array(sequences)\n",
    "X = torch.from_numpy(sequences[:, :-1])\n",
    "y = torch.from_numpy(sequences[:, -1])"
   ]
  },
  {
   "cell_type": "code",
   "execution_count": 8,
   "id": "46c42657-744a-423d-a48d-35f0c499880d",
   "metadata": {},
   "outputs": [],
   "source": [
    "class TextDataset(Dataset):\n",
    "    def __init__(self, X, y):\n",
    "        self.X = X\n",
    "        self.y = y\n",
    "        \n",
    "    def __len__(self):\n",
    "        return len(self.X)\n",
    "    \n",
    "    def __getitem__(self, idx):\n",
    "        return self.X[idx], self.y[idx]"
   ]
  },
  {
   "cell_type": "code",
   "execution_count": 9,
   "id": "053a1369-61a8-46ef-8584-8f662839c631",
   "metadata": {},
   "outputs": [],
   "source": [
    "dataset = TextDataset(X, y)\n",
    "dataloader = DataLoader(dataset, batch_size=64, shuffle=True)"
   ]
  },
  {
   "cell_type": "code",
   "execution_count": 20,
   "id": "ddd87287-1150-4f2b-b37b-b83ecf6bb873",
   "metadata": {},
   "outputs": [],
   "source": [
    "import torch.nn.functional as F\n",
    "\n",
    "class LSTMModel(nn.Module):\n",
    "    def __init__(self, vocab_size, embedding_dim, hidden_dim, num_layers, dropout=0.2):\n",
    "        super(LSTMModel, self).__init__()\n",
    "        self.embedding = nn.Embedding(vocab_size, embedding_dim)\n",
    "        self.lstm = nn.LSTM(embedding_dim, hidden_dim, num_layers, batch_first=True, dropout=dropout)\n",
    "        self.dropout = nn.Dropout(dropout)\n",
    "        self.fc = nn.Linear(hidden_dim, vocab_size)\n",
    "        \n",
    "    def forward(self, x):\n",
    "        embeds = self.embedding(x)\n",
    "        lstm_out, _ = self.lstm(embeds)\n",
    "        lstm_out = self.dropout(lstm_out)\n",
    "        out = self.fc(lstm_out[:, -1, :])\n",
    "        return out\n",
    "    \n",
    "    def generate_text(self, start_token, length, temperature=1.0):\n",
    "        generated_text = [start_token]\n",
    "        current_token = start_token\n",
    "\n",
    "        for _ in range(length):\n",
    "            input_token = torch.tensor([[current_token]])\n",
    "            output_probs = F.softmax(self.forward(input_token), dim=-1).squeeze().detach().cpu().numpy()\n",
    "            next_token = np.random.choice(len(output_probs), p=output_probs)\n",
    "            generated_text.append(next_token)\n",
    "            current_token = next_token\n",
    "\n",
    "        return generated_text\n"
   ]
  },
  {
   "cell_type": "code",
   "execution_count": 21,
   "id": "d7bac150-4442-4c6d-8b7f-aff2747ad128",
   "metadata": {},
   "outputs": [],
   "source": [
    "embedding_dim = 100\n",
    "hidden_dim = 150\n",
    "num_layers = 2\n",
    "model = LSTMModel(vocab_size, embedding_dim, hidden_dim, num_layers)"
   ]
  },
  {
   "cell_type": "code",
   "execution_count": 22,
   "id": "46f4b1d2-06c5-4729-b3f4-8cb62001fcdb",
   "metadata": {},
   "outputs": [],
   "source": [
    "criterion = nn.CrossEntropyLoss()\n",
    "optimizer = optim.Adam(model.parameters(), lr=0.01)\n",
    "def generate_text(seed_text, next_words, model, word_to_ix, ix_to_word, temperature=1.0):\n",
    "    generated_text = seed_text\n",
    "    for _ in range(next_words):\n",
    "        seed_tokens = seed_text.split()\n",
    "        if len(seed_tokens) < seq_length:\n",
    "            pad_length = seq_length - len(seed_tokens)\n",
    "            seed_tokens = ['<pad>'] * pad_length + seed_tokens\n",
    "        seed_idx = torch.tensor([[word_to_ix.get(word, 0) for word in seed_tokens]])\n",
    "        with torch.no_grad():\n",
    "            output = model(seed_idx)\n",
    "        \n",
    "        output_dist = output.squeeze().div(temperature).exp()\n",
    "        word_idx = torch.multinomial(output_dist, 1).item()\n",
    "        \n",
    "        predicted_word = ix_to_word.get(word_idx, '<unk>')\n",
    "        generated_text += \" \" + predicted_word\n",
    "        seed_text = ' '.join(seed_text.split()[1:]) + \" \" + predicted_word\n",
    "    return generated_text"
   ]
  },
  {
   "cell_type": "code",
   "execution_count": null,
   "id": "aa4978c5-65ec-44bb-816b-4b4b2e946299",
   "metadata": {},
   "outputs": [],
   "source": [
    "num_epochs = 100\n",
    "for epoch in range(num_epochs):\n",
    "    for inputs, labels in dataloader:\n",
    "        optimizer.zero_grad()\n",
    "        outputs = model(inputs)\n",
    "        loss = criterion(outputs, labels)\n",
    "        loss.backward()\n",
    "        optimizer.step()\n",
    "    seed_text = \"Người dân Quỳnh Đôi không đồng tình ghép tên với xã\"\n",
    "    generated_text = generate_text(seed_text, 20, model, word_to_ix, ix_to_word, temperature=1)\n",
    "    print(generated_text)\n",
    "    print(f'Epoch [{epoch+1}/{num_epochs}], Loss: {loss.item():.4f}')"
   ]
  },
  {
   "cell_type": "code",
   "execution_count": null,
   "id": "97ca6547-4a2f-4bad-991e-d1f67d86caad",
   "metadata": {},
   "outputs": [],
   "source": [
    "def generate_text(seed_text, next_words, model, word_to_ix, ix_to_word, temperature=1.0):\n",
    "    generated_text = seed_text\n",
    "    for _ in range(next_words):\n",
    "        seed_tokens = seed_text.split()\n",
    "        if len(seed_tokens) < seq_length:\n",
    "            pad_length = seq_length - len(seed_tokens)\n",
    "            seed_tokens = ['<pad>'] * pad_length + seed_tokens\n",
    "        seed_idx = torch.tensor([[word_to_ix.get(word, 0) for word in seed_tokens]])\n",
    "        with torch.no_grad():\n",
    "            output = model(seed_idx)\n",
    "        \n",
    "        output_dist = output.squeeze().div(temperature).exp()\n",
    "        word_idx = torch.multinomial(output_dist, 1).item()\n",
    "        \n",
    "        predicted_word = ix_to_word.get(word_idx, '<unk>')\n",
    "        generated_text += \" \" + predicted_word\n",
    "        seed_text = ' '.join(seed_text.split()[1:]) + \" \" + predicted_word\n",
    "    return generated_text"
   ]
  },
  {
   "cell_type": "code",
   "execution_count": 16,
   "id": "92af693d-43ef-462d-853b-8d247ef53c6c",
   "metadata": {},
   "outputs": [
    {
     "name": "stdout",
     "output_type": "stream",
     "text": [
      "AI Chưa bên 1 triệu đồng đối với nhiệm vụ án đầu Quảng Ninh Bình Dương, cuộc họp bình nhất, hành\n"
     ]
    }
   ],
   "source": [
    "seed_text = \"AI\"\n",
    "generated_text = generate_text(seed_text, 20, model, word_to_ix, ix_to_word, temperature=1)\n",
    "print(generated_text)"
   ]
  },
  {
   "cell_type": "code",
   "execution_count": 17,
   "id": "2252a6d4-ad58-44c0-988e-35b8afdbdfbf",
   "metadata": {},
   "outputs": [],
   "source": [
    "model_path = \"lstm_model.pth\"\n",
    "torch.save(model.state_dict(), model_path)"
   ]
  },
  {
   "cell_type": "code",
   "execution_count": null,
   "id": "ce52459c-2702-498b-bb5f-2a4fb3602c02",
   "metadata": {},
   "outputs": [],
   "source": [
    "# Load the model\n",
    "model = LSTMModel(vocab_size, embedding_dim, hidden_dim, num_layers)\n",
    "model.load_state_dict(torch.load(model_path))\n",
    "model.eval()\n",
    "print(\"Model loaded successfully.\")\n"
   ]
  }
 ],
 "metadata": {
  "kernelspec": {
   "display_name": "Python 3 (ipykernel)",
   "language": "python",
   "name": "python3"
  },
  "language_info": {
   "codemirror_mode": {
    "name": "ipython",
    "version": 3
   },
   "file_extension": ".py",
   "mimetype": "text/x-python",
   "name": "python",
   "nbconvert_exporter": "python",
   "pygments_lexer": "ipython3",
   "version": "3.11.8"
  }
 },
 "nbformat": 4,
 "nbformat_minor": 5
}
